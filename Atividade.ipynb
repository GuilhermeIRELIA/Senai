{
 "cells": [
  {
   "cell_type": "code",
   "execution_count": 3,
   "metadata": {},
   "outputs": [],
   "source": [
    "import pandas as pd\n",
    "import openpyxl\n",
    "import numpy as np"
   ]
  },
  {
   "cell_type": "code",
   "execution_count": 4,
   "metadata": {},
   "outputs": [],
   "source": [
    "num_rows = 50\n",
    "data = {\n",
    "    'Produto':[f'Produto_{i}' for i in range(1,num_rows + 1)],\n",
    "    'Categoria': np.random.choice(['Televisão','Computador','Celular','Tablet','Impressora'], size=num_rows),\n",
    "    'Preço': np.random.uniform(100.0, 2000.0, size=num_rows).round(2),\n",
    "    'Quantidade_Estoque': np.random.randint(1, 50, size=num_rows)\n",
    "}"
   ]
  },
  {
   "cell_type": "code",
   "execution_count": 7,
   "metadata": {},
   "outputs": [],
   "source": [
    "#Questão 2\n",
    "df = pd.DataFrame(data)\n",
    "df['Quantidade_Vendida'] = np.random.randint(1, df['Quantidade_Estoque'] + 1)\n",
    "df['Valor_Total'] = df['Preço'] * df['Quantidade_Vendida']"
   ]
  },
  {
   "cell_type": "code",
   "execution_count": 8,
   "metadata": {},
   "outputs": [],
   "source": [
    "#Questão 3\n",
    "def calcular_valor_total(row):\n",
    "    return row['Preço'] * row['Quantidade_Vendida']\n",
    "df['Valor_Total'] = df.apply(calcular_valor_total, axis=1)\n"
   ]
  },
  {
   "cell_type": "code",
   "execution_count": 9,
   "metadata": {},
   "outputs": [],
   "source": [
    "#Questão 4\n",
    "min_valor_total = df['Valor_Total'].min()\n",
    "max_valor_total = df['Valor_Total'].max()\n",
    "mean_valor_total = df['Valor_Total'].mean()\n",
    "std_valor_total = df['Valor_Total'].std()\n"
   ]
  },
  {
   "cell_type": "code",
   "execution_count": 11,
   "metadata": {},
   "outputs": [],
   "source": [
    "#Questão 5\n",
    "df_computadores = df[df['Categoria'] == 'Computador']"
   ]
  },
  {
   "cell_type": "code",
   "execution_count": 14,
   "metadata": {},
   "outputs": [],
   "source": [
    "#Questão 6\n",
    "df_filtrar = df[(df['Valor_Total'] > 500) & (df['Categoria'] == 'Computador')]"
   ]
  },
  {
   "cell_type": "code",
   "execution_count": 18,
   "metadata": {},
   "outputs": [],
   "source": [
    "#Questão 7\n",
    "df_filtrar_impressora = df[(df['Quantidade_Estoque'] > 40) | (df['Categoria'] == 'Impressora')]"
   ]
  },
  {
   "cell_type": "code",
   "execution_count": 20,
   "metadata": {},
   "outputs": [],
   "source": [
    "#Questão 8\n",
    "df_filtrar.to_excel('resultado_filtrado.xlsx', index=False)"
   ]
  }
 ],
 "metadata": {
  "kernelspec": {
   "display_name": "Python 3",
   "language": "python",
   "name": "python3"
  },
  "language_info": {
   "codemirror_mode": {
    "name": "ipython",
    "version": 3
   },
   "file_extension": ".py",
   "mimetype": "text/x-python",
   "name": "python",
   "nbconvert_exporter": "python",
   "pygments_lexer": "ipython3",
   "version": "3.9.7"
  }
 },
 "nbformat": 4,
 "nbformat_minor": 2
}
